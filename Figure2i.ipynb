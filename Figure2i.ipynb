{
 "cells": [
  {
   "cell_type": "code",
   "execution_count": 2,
   "metadata": {
    "collapsed": true,
    "jupyter": {
     "outputs_hidden": true
    }
   },
   "outputs": [],
   "source": [
    "import numpy as np\n",
    "import matplotlib.pyplot as plt\n",
    "from matplotlib.patches import Patch\n",
    "import circularFiltering as flt\n",
    "from scipy.stats import vonmises\n",
    "import matplotlib\n",
    "import glob\n",
    "import re\n",
    "import os\n",
    "matplotlib.rcParams.update({'font.size': 14,\n",
    "                            'pdf.fonttype': 42,\n",
    "                            'ps.fonttype': 42})\n",
    "from matplotlib import rc\n",
    "rc('font',**{'family':'sans-serif','sans-serif':['Helvetica']})\n",
    "\n",
    "\n"
   ]
  },
  {
   "cell_type": "markdown",
   "metadata": {},
   "source": [
    "### Parameters"
   ]
  },
  {
   "cell_type": "code",
   "execution_count": 3,
   "metadata": {},
   "outputs": [],
   "source": [
    "T = 10 # simulation time\n",
    "dt = 0.01 # step size\n",
    "t = np.arange(0,T,dt)\n",
    "kappa_phi = 1 # inverse diffusion constant\n",
    "phi_0 = 0 # initial mean\n",
    "kappa_0 = 20 # initial certainty\n",
    "\n",
    "# colors for plotting\n",
    "col_PF = 'xkcd:green'\n",
    "col_ADF = 'xkcd:blue'\n",
    "col_vM = 'xkcd:orange'"
   ]
  },
  {
   "cell_type": "markdown",
   "metadata": {},
   "source": [
    "##\n",
    "Simulations were run on the HPC cluster with the same parameters as above for nIter=5000 times. Here, we analyse, but for a significantly longer runtime. Here, we load this data and compare."
   ]
  },
  {
   "cell_type": "code",
   "execution_count": 4,
   "metadata": {},
   "outputs": [],
   "source": [
    "def backToCirc(phi):\n",
    "    phi = ( (phi+np.pi) % (2*np.pi) ) - np.pi\n",
    "    return phi"
   ]
  },
  {
   "attachments": {},
   "cell_type": "markdown",
   "metadata": {},
   "source": [
    "## Preprocessing"
   ]
  },
  {
   "cell_type": "code",
   "execution_count": 6,
   "metadata": {},
   "outputs": [],
   "source": [
    "kappa_z_array = ([1.e-02, 3.e-02, 1.e-01, 2.e-01, 3.e-01, 4.e-01, 5.e-01, 6.e-01,\n",
    "       7.e-01, 8.e-01, 9.e-01, 1.e+00, 2.e+00, 3.e+00, 4.e+00, 5.e+00,\n",
    "       6.e+00, 7.e+00, 8.e+00, 9.e+00, 1.e+01, 3.e+01, 1.e+02])\n",
    "\n",
    "preprocess = False # only set to True if you want to re-run preprocessing on data in /data_raw\n",
    "\n",
    "path_processed = 'data_processed/'\n",
    "path_raw = 'data_raw/figure2i/'\n",
    "\n",
    "if preprocess:\n",
    "\n",
    "    # # make unique list of parameter values\n",
    "    fileNames = glob.glob(os.path.join(path_raw, \"k=*.npz\"))\n",
    "    kappa_array = np.array( [ re.findall('(?<=k=)(.*)(?=_)', name) for name in fileNames ] )[:,0]\n",
    "    kappa_array = np.unique(kappa_array.astype(float))\n",
    "    kappa_z_array = np.array( [ re.findall('(?<=kz=)(.*)(?=\\.)', name) for name in fileNames ] )[:,0]\n",
    "    kappa_z_array = np.unique(kappa_z_array.astype(float))\n",
    "\n",
    "\n",
    "    len_kz = len(kappa_z_array)\n",
    "    len_k = len(kappa_array)\n",
    "\n",
    "    phi = np.zeros([len_k,len_kz])\n",
    "    vonMises_stats = np.zeros([len_k,len_kz,3]) # 1st (bias + variance) and 2nd order statistics for each kappa_z,\n",
    "    vonMises_q_stats = np.zeros([len_k,len_kz,3])\n",
    "    PF_stats = np.zeros([len_k,len_kz,3])\n",
    "    noUncert_stats = np.zeros([len_k,len_kz,2])\n",
    "\n",
    "    for i in np.arange(len_k):\n",
    "        if i == 0:\n",
    "            for j in np.arange(len_kz):\n",
    "                kappa = kappa_array[i]\n",
    "                kappa_z = kappa_z_array[j]\n",
    "                filename = path_raw+\"k=\"+str(kappa)+\"_kz=\"+str(kappa_z)\n",
    "                data = np.load(filename+'.npz')\n",
    "\n",
    "                # simulation data arrays, mean and kappa (r for PF) for each run\n",
    "                vonMises=data['vonMises']\n",
    "                vonMises_q=data['vonMises_q']\n",
    "                noUncert = data['noUncert']\n",
    "                PF=data['PF']\n",
    "                phi_final = data['phi_final']\n",
    "\n",
    "                # collect 2nd order statistics at end of simulation(precision as computed by filter)\n",
    "                vonMises_stats[i,j,2] = np.mean(vonMises[:,1])\n",
    "                vonMises_q_stats[i,j,2] = np.mean(vonMises_q[:,1])\n",
    "                PF_stats[i,j,2] = np.mean(PF[:,1])\n",
    "\n",
    "\n",
    "                # collect 1st order statistics (bias as phase of circular mean, precision as radius of circular mean)\n",
    "                vonMises_stats[i,j,[0,1]] = flt.circular_mean(flt.backToCirc(vonMises[:,0]-phi_final))\n",
    "                vonMises_q_stats[i,j,[0,1]] = flt.circular_mean(flt.backToCirc(vonMises_q[:,0]-phi_final))\n",
    "                PF_stats[i,j,[0,1]] = flt.circular_mean(flt.backToCirc(PF[:,0]-phi_final))\n",
    "                noUncert_stats[i,j] = flt.circular_mean(flt.backToCirc(noUncert - phi_final))\n",
    "\n",
    "        else:\n",
    "            for j in np.arange(len_kz):\n",
    "                kappa = kappa_array[i]\n",
    "                kappa_z = kappa_z_array[j]\n",
    "                filename = path_raw+\"k=\"+str(kappa)+\"_kz=\"+str(kappa_z)\n",
    "                data = np.load(filename+'.npz')\n",
    "\n",
    "                noUncert = data['noUncert']\n",
    "                phi_final = data['phi_final']\n",
    "\n",
    "                # collect 1st order statistics (bias as phase of circular mean, precision as radius of circular mean)\n",
    "                noUncert_stats[i,j] = flt.circular_mean(flt.backToCirc(noUncert - phi_final))\n",
    "    \n",
    "    # save the preprocessed data\n",
    "    np.savez(path_processed+'figure2i',\n",
    "        vonMises_stats=vonMises_stats,vonMises_q_stats=vonMises_q_stats,PF_stats=PF_stats,noUncert_stats=noUncert_stats)\n",
    "\n",
    "else:\n",
    "    data = np.load(path_processed+'figure2i.npz')\n",
    "    vonMises_stats = data['vonMises_stats']\n",
    "    vonMises_q_stats = data['vonMises_q_stats']\n",
    "    PF_stats = data['PF_stats']\n",
    "    noUncert_stats = data['noUncert_stats']\n"
   ]
  },
  {
   "cell_type": "markdown",
   "metadata": {},
   "source": [
    "### Summary plots at T = 10\n",
    "#### Error measures"
   ]
  },
  {
   "cell_type": "code",
   "execution_count": 8,
   "metadata": {},
   "outputs": [
    {
     "data": {
      "image/png": "[encoded data removed]",
      "text/plain": [
       "<Figure size 504x432 with 2 Axes>"
      ]
     },
     "metadata": {
      "needs_background": "light"
     },
     "output_type": "display_data"
    }
   ],
   "source": [
    "\n",
    "fig, (ax1,ax2) = plt.subplots(ncols=1,nrows=2,figsize = (7,6),sharex=True,tight_layout=True)\n",
    "\n",
    "# first order statistics\n",
    "ax1.plot(kappa_z_array,vonMises_stats[0,:,1],label='Projection Filter',linewidth=2,color='orange')\n",
    "ax1.plot(kappa_z_array,vonMises_q_stats[0,:,1],label='Q Apppr',linewidth=2,color='blue')\n",
    "# ax1.plot(kappa_z_array,PF_stats[:,1],'--',label='ParticleFilter',linewidth=3,color=col_PF)\n",
    "ax1.set_ylabel(r'Inference accuracy')\n",
    "ax1.set_xscale('log')\n",
    "ax1.spines[\"top\"].set_visible(False)\n",
    "ax1.spines[\"right\"].set_visible(False)\n",
    "ax1.set_ylim([0,1])\n",
    "ax1.set_xlim([kappa_z_array[0],kappa_z_array[-1]])\n",
    "# ax1.legend()\n",
    "\n",
    "# second order statistics\n",
    "ax2.plot(kappa_z_array,vonMises_stats[0,:,2],label='Projection Filter',linewidth=2,color='orange')\n",
    "ax2.plot(kappa_z_array,vonMises_q_stats[0,:,2],label='Projection Filter',linewidth=2,color='blue')\n",
    "# ax2.plot(kappa_z_array,PF_stats[:,2],'--',label='ParticleFilter',linewidth=3,color=col_PF)\n",
    "ax2.set_ylabel('Certainty $\\kappa_t$')\n",
    "ax2.set_xlabel(r'HD observation information rate $[s^{-1}]')\n",
    "ax2.spines[\"top\"].set_visible(False)\n",
    "ax2.spines[\"right\"].set_visible(False)\n",
    "ax2.set_xscale('log')\n",
    "# plt.savefig('Figure3/MSE.pdf',format='pdf',transparent=True)\n",
    "\n",
    "plt.show()"
   ]
  }
 ],
 "metadata": {
  "kernelspec": {
   "display_name": "base",
   "language": "python",
   "name": "python3"
  },
  "language_info": {
   "codemirror_mode": {
    "name": "ipython",
    "version": 3
   },
   "file_extension": ".py",
   "mimetype": "text/x-python",
   "name": "python",
   "nbconvert_exporter": "python",
   "pygments_lexer": "ipython3",
   "version": "3.9.7 (default, Sep 16 2021, 08:50:36) \n[Clang 10.0.0 ]"
  },
  "vscode": {
   "interpreter": {
    "hash": "f7a634d278dde729509e71b09cba49254fc826f4fac11460a75a02ac3f6f6bcc"
   }
  }
 },
 "nbformat": 4,
 "nbformat_minor": 4
}
